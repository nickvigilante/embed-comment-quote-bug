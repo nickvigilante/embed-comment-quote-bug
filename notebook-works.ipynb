{
 "cells": [
  {
   "cell_type": "code",
   "execution_count": null,
   "metadata": {},
   "outputs": [],
   "source": [
    "#| label: works\n",
    "#| output: false\n",
    "# no double quotes\n",
    "print(\"This should display fine\")\n"
   ]
  }
 ],
 "metadata": {
  "language_info": {
   "name": "python"
  }
 },
 "nbformat": 4,
 "nbformat_minor": 2
}
